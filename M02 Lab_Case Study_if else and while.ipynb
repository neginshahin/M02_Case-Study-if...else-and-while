{
 "cells": [
  {
   "cell_type": "code",
   "execution_count": 1,
   "id": "937b8ac1",
   "metadata": {},
   "outputs": [
    {
     "name": "stdout",
     "output_type": "stream",
     "text": [
      "Last Name: Barr\n",
      "First Name: Ronald\n",
      "GPA: 3.20\n",
      "\n",
      "\n",
      "Last Name: Johnson\n",
      "First Name: Jeff\n",
      "GPA: 3.25\n",
      "The studnet has made the Honor Roll.\n",
      "\n",
      "\n",
      "Last Name: Lum\n",
      "First Name: Roger\n",
      "GPA: 3.45\n",
      "The studnet has made the Honor Roll.\n",
      "\n",
      "\n",
      "Last Name: Connor\n",
      "First Name: Susan\n",
      "GPA: 3.50\n",
      "The student has made the Dean's List.\n",
      "\n",
      "\n",
      "Last Name: Novak\n",
      "First Name: Rick\n",
      "GPA: 3.75\n",
      "The student has made the Dean's List.\n",
      "\n",
      "\n"
     ]
    }
   ],
   "source": [
    "# Negin Shahin\n",
    "# M02 Lab - Case Study: if...else and while\n",
    "# Description: This program checks the students' Names and GPAs and decides who qualifies for Dean's list or Honor Roll.\n",
    "\n",
    "for num in range (5):\n",
    "    last_name = str (input (\"Last Name: \"))\n",
    "    if last_name == \"ZZZ\":\n",
    "        break\n",
    "    first_name = str (input (\"First Name: \"))\n",
    "    GPA = float (input (\"GPA: \"))\n",
    "    if GPA >= 3.50:\n",
    "        print (\"The student has made the Dean's List.\")\n",
    "    if GPA >= 3.25 and GPA < 3.50:\n",
    "        print (\"The studnet has made the Honor Roll.\")\n",
    "    print(\"\\n\")"
   ]
  }
 ],
 "metadata": {
  "kernelspec": {
   "display_name": "Python 3 (ipykernel)",
   "language": "python",
   "name": "python3"
  },
  "language_info": {
   "codemirror_mode": {
    "name": "ipython",
    "version": 3
   },
   "file_extension": ".py",
   "mimetype": "text/x-python",
   "name": "python",
   "nbconvert_exporter": "python",
   "pygments_lexer": "ipython3",
   "version": "3.10.9"
  }
 },
 "nbformat": 4,
 "nbformat_minor": 5
}
